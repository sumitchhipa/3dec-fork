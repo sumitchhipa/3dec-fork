{
  "nbformat": 4,
  "nbformat_minor": 0,
  "metadata": {
    "colab": {
      "provenance": [],
      "authorship_tag": "ABX9TyMGFs2qoeEpCpb0N5nZ6X4r",
      "include_colab_link": true
    },
    "kernelspec": {
      "name": "python3",
      "display_name": "Python 3"
    },
    "language_info": {
      "name": "python"
    }
  },
  "cells": [
    {
      "cell_type": "markdown",
      "metadata": {
        "id": "view-in-github",
        "colab_type": "text"
      },
      "source": [
        "<a href=\"https://colab.research.google.com/github/sumitchhipa/python-learning/blob/main/day5.ipynb\" target=\"_parent\"><img src=\"https://colab.research.google.com/assets/colab-badge.svg\" alt=\"Open In Colab\"/></a>"
      ]
    },
    {
      "cell_type": "code",
      "execution_count": null,
      "metadata": {
        "id": "MOmUu1n_o8mQ"
      },
      "outputs": [],
      "source": [
        "a=3\n",
        "b=7\n",
        "num=1\n",
        "while():\n",
        "  if num%a==0 and num%b==0:\n",
        "    print(num)\n",
        "    break\n",
        "  num=num+1"
      ]
    },
    {
      "cell_type": "code",
      "source": [],
      "metadata": {
        "id": "neV292Z3wKIl"
      },
      "execution_count": null,
      "outputs": []
    },
    {
      "cell_type": "code",
      "source": [
        "a=3\n",
        "b=5\n",
        "num=b\n",
        "while(True):\n",
        "  if(num%a and num%b)==0:\n",
        "    print(num)\n",
        "    break\n",
        "  num=num+1"
      ],
      "metadata": {
        "colab": {
          "base_uri": "https://localhost:8080/"
        },
        "id": "kWy58sV4qhNz",
        "outputId": "908af2ae-c73e-4dbd-cd4d-43e4be014a45"
      },
      "execution_count": null,
      "outputs": [
        {
          "output_type": "stream",
          "name": "stdout",
          "text": [
            "5\n"
          ]
        }
      ]
    },
    {
      "cell_type": "code",
      "source": [
        "data= \"sarras \"\n",
        "start=0\n",
        "end=len(data)-1\n",
        "x=0\n",
        "while(start>end):\n",
        "  if(data[start]==data[end]):\n",
        "    print(\"correct\")\n",
        "  else:\n",
        "    x+=1\n",
        "    break\n",
        "    start+=1\n",
        "    end-=1"
      ],
      "metadata": {
        "id": "8sTHd4Yxz7Uk"
      },
      "execution_count": null,
      "outputs": []
    },
    {
      "cell_type": "code",
      "source": [
        "for x in range(1,5):\n",
        "  print(\"employee\",x)\n",
        "  for y in range(4,x-1,-1):\n",
        "    print(\"food copupon\",y)\n"
      ],
      "metadata": {
        "colab": {
          "base_uri": "https://localhost:8080/"
        },
        "id": "H84xRN2s1kXQ",
        "outputId": "d90d478c-dac9-4189-f73b-7aa4c119feb4"
      },
      "execution_count": null,
      "outputs": [
        {
          "output_type": "stream",
          "name": "stdout",
          "text": [
            "employee 1\n",
            "food copupon 4\n",
            "food copupon 3\n",
            "food copupon 2\n",
            "food copupon 1\n",
            "employee 2\n",
            "food copupon 4\n",
            "food copupon 3\n",
            "food copupon 2\n",
            "employee 3\n",
            "food copupon 4\n",
            "food copupon 3\n",
            "employee 4\n",
            "food copupon 4\n"
          ]
        }
      ]
    },
    {
      "cell_type": "code",
      "source": [
        "#num=int(input(\"enter the number\"))\n",
        "for i in range(2,7):\n",
        "  for i in range(1,11):\n",
        "   print(num,\"x\",i,\"=\",num*i)"
      ],
      "metadata": {
        "id": "HK2mK7nW5NeY"
      },
      "execution_count": null,
      "outputs": []
    },
    {
      "cell_type": "code",
      "source": [],
      "metadata": {
        "id": "4AKObnnY5_LB"
      },
      "execution_count": null,
      "outputs": []
    }
  ]
}