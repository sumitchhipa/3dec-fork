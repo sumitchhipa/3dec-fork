{
  "nbformat": 4,
  "nbformat_minor": 0,
  "metadata": {
    "colab": {
      "provenance": [],
      "authorship_tag": "ABX9TyNA58agb1veUZkId8RDaMd8",
      "include_colab_link": true
    },
    "kernelspec": {
      "name": "python3",
      "display_name": "Python 3"
    },
    "language_info": {
      "name": "python"
    }
  },
  "cells": [
    {
      "cell_type": "markdown",
      "metadata": {
        "id": "view-in-github",
        "colab_type": "text"
      },
      "source": [
        "<a href=\"https://colab.research.google.com/github/sumitchhipa/python-learning/blob/main/day4.ipynb\" target=\"_parent\"><img src=\"https://colab.research.google.com/assets/colab-badge.svg\" alt=\"Open In Colab\"/></a>"
      ]
    },
    {
      "cell_type": "code",
      "execution_count": null,
      "metadata": {
        "id": "N7Y6JyzDF_Sb"
      },
      "outputs": [],
      "source": [
        "n = int(input(\"Enter a positive integer n: \"))\n",
        "i = 1\n",
        "while i <= n:\n",
        "    print(i, end=' ')\n",
        "    i += 1\n"
      ]
    },
    {
      "cell_type": "code",
      "source": [
        "n = int(input(\"Enter a positive integer n: \"))\n",
        "i = n\n",
        "while i >= 1:\n",
        "    print(i, end=' ')\n",
        "    i -= 1\n"
      ],
      "metadata": {
        "id": "jE0ici_wGFSC"
      },
      "execution_count": null,
      "outputs": []
    },
    {
      "cell_type": "code",
      "source": [
        "\n",
        "i = ord('a')\n",
        "while i <= ord('z'):\n",
        "    print(chr(i), end=' ')\n",
        "    i += 1\n"
      ],
      "metadata": {
        "id": "jZvT5BcaGQKl"
      },
      "execution_count": null,
      "outputs": []
    },
    {
      "cell_type": "code",
      "source": [
        "i = 2\n",
        "while i <= 100:\n",
        "    print(i, end=' ')\n",
        "    i += 2\n"
      ],
      "metadata": {
        "colab": {
          "base_uri": "https://localhost:8080/"
        },
        "id": "fkKDBZdxGahL",
        "outputId": "cb4b6a72-545c-43b1-94ef-8b5bf1530a62"
      },
      "execution_count": null,
      "outputs": [
        {
          "output_type": "stream",
          "name": "stdout",
          "text": [
            "2 4 6 8 10 12 14 16 18 20 22 24 26 28 30 32 34 36 38 40 42 44 46 48 50 52 54 56 58 60 62 64 66 68 70 72 74 76 78 80 82 84 86 88 90 92 94 96 98 100 "
          ]
        }
      ]
    },
    {
      "cell_type": "code",
      "source": [
        "n = int(input(\"Enter a positive integer n: \"))\n",
        "i = 1\n",
        "sum_odd = 0\n",
        "\n",
        "while i <= n:\n",
        "    if i % 2 != 0:\n",
        "        sum_odd += i\n",
        "    i += 1\n",
        "\n",
        "print(\"Sum of all odd numbers between 1 to\", n, \"is:\", sum_odd)\n"
      ],
      "metadata": {
        "id": "-HIZN4ozGigl"
      },
      "execution_count": null,
      "outputs": []
    },
    {
      "cell_type": "code",
      "source": [
        "num = int(input(\"Enter a number: \"))\n",
        "count = 0\n",
        "\n",
        "while num != 0:\n",
        "    num //= 10\n",
        "    count += 1\n",
        "\n",
        "print(\"Number of digits:\", count)\n"
      ],
      "metadata": {
        "id": "qHn_r4npGjta"
      },
      "execution_count": null,
      "outputs": []
    },
    {
      "cell_type": "code",
      "source": [
        "num = int(input(\"Enter a number: \"))\n",
        "sum_of_digits = 0\n",
        "\n",
        "while num != 0:\n",
        "    sum_of_digits += num % 10\n",
        "    num //= 10\n",
        "\n",
        "print(\"Sum of digits:\", sum_of_digits)\n"
      ],
      "metadata": {
        "id": "2qXdeW8eGqNG"
      },
      "execution_count": null,
      "outputs": []
    },
    {
      "cell_type": "code",
      "source": [
        "num = int(input(\"Enter a number: \"))\n",
        "\n",
        "last_digit = num % 10\n",
        "\n",
        "while num >= 10:\n",
        "    num //= 10\n",
        "\n",
        "first_digit = num\n",
        "\n",
        "print(\"First digit:\", first_digit)\n",
        "print(\"Last digit:\", last_digit)\n"
      ],
      "metadata": {
        "id": "lWu05Ql6Gvrm"
      },
      "execution_count": null,
      "outputs": []
    },
    {
      "cell_type": "code",
      "source": [
        "num = int(input(\"Enter a number: \"))\n",
        "\n",
        "last_digit = num % 10\n",
        "\n",
        "while num >= 10:\n",
        "    num //= 10\n",
        "\n",
        "first_digit = num\n",
        "\n",
        "sum_of_first_and_last = first_digit + last_digit\n",
        "\n",
        "print(\"Sum of first and last digit:\", sum_of_first_and_last)\n"
      ],
      "metadata": {
        "id": "VZBbLuZVG19O"
      },
      "execution_count": null,
      "outputs": []
    },
    {
      "cell_type": "code",
      "source": [
        "num = int(input(\"Enter a number: \"))\n",
        "reverse = 0\n",
        "\n",
        "while num != 0:\n",
        "    reverse = reverse * 10 + num % 10\n",
        "    num //= 10\n",
        "\n",
        "print(\"Reverse of the number:\", reverse)\n"
      ],
      "metadata": {
        "id": "U9RERf95G-SE"
      },
      "execution_count": null,
      "outputs": []
    },
    {
      "cell_type": "code",
      "source": [
        "base = int(input(\"Enter the base number: \"))\n",
        "exponent = int(input(\"Enter the exponent: \"))\n",
        "result = 1\n",
        "\n",
        "for _ in range(exponent):\n",
        "    result *= base\n",
        "\n",
        "print(f\"{base} raised to the power of {exponent} is: {result}\")\n"
      ],
      "metadata": {
        "id": "eo7mxt4SHDbs"
      },
      "execution_count": null,
      "outputs": []
    },
    {
      "cell_type": "code",
      "source": [
        "num = int(input(\"Enter a number: \"))\n",
        "\n",
        "print(\"Factors of\", num, \"are:\")\n",
        "for i in range(1, num + 1):\n",
        "    if num % i == 0:\n",
        "        print(i, end=' ')\n"
      ],
      "metadata": {
        "id": "SrmEWUqVHIik"
      },
      "execution_count": null,
      "outputs": []
    },
    {
      "cell_type": "code",
      "source": [
        "num = int(input(\"Enter a number: \"))\n",
        "factorial = 1\n",
        "\n",
        "for i in range(1, num + 1):\n",
        "    factorial *= i\n",
        "\n",
        "print(\"Factorial of\", num, \"is:\", factorial)\n"
      ],
      "metadata": {
        "id": "_EcoZXD5HOZp"
      },
      "execution_count": null,
      "outputs": []
    },
    {
      "cell_type": "code",
      "source": [
        "a = int(input(\"Enter the first number: \"))\n",
        "b = int(input(\"Enter the second number: \"))\n",
        "\n",
        "max_num = max(a, b)\n",
        "\n",
        "while True:\n",
        "    if max_num % a == 0 and max_num % b == 0:\n",
        "        lcm = max_num\n",
        "        break\n",
        "    max_num += 1\n",
        "\n",
        "print(\"LCM of\", a, \"and\", b, \"is:\", lcm)\n"
      ],
      "metadata": {
        "id": "K3fZM8WbHTEc"
      },
      "execution_count": null,
      "outputs": []
    },
    {
      "cell_type": "code",
      "source": [
        "num = int(input(\"Enter a number: \"))\n",
        "is_prime = True\n",
        "\n",
        "if num <= 1:\n",
        "    is_prime = False\n",
        "else:\n",
        "    for i in range(2, num):\n",
        "        if num % i == 0:\n",
        "            is_prime = False\n",
        "            break\n",
        "\n",
        "if is_prime:\n",
        "    print(num, \"is a prime number.\")\n",
        "else:\n",
        "    print(num, \"is not a prime number.\")\n"
      ],
      "metadata": {
        "id": "c2H-XZJLHaBP"
      },
      "execution_count": null,
      "outputs": []
    }
  ]
}